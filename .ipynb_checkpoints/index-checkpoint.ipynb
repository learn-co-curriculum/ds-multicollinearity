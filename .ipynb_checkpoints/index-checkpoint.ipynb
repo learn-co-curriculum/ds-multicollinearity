{
 "cells": [
  {
   "cell_type": "markdown",
   "metadata": {},
   "source": [
    "# Correlation, Regression and Multicollinearity"
   ]
  },
  {
   "cell_type": "code",
   "execution_count": 1,
   "metadata": {},
   "outputs": [],
   "source": [
    "import numpy as np\n",
    "import pandas as pd\n",
    "import seaborn as sns\n",
    "import matplotlib.pyplot as plt\n",
    "%matplotlib inline"
   ]
  },
  {
   "cell_type": "markdown",
   "metadata": {},
   "source": [
    "As usual start by importing our dataset:"
   ]
  },
  {
   "cell_type": "code",
   "execution_count": 28,
   "metadata": {},
   "outputs": [
    {
     "name": "stdout",
     "output_type": "stream",
     "text": [
      "20 Index(['Pt', 'BP', 'Age', 'Weight', 'BSA', 'Dur', 'Pulse', 'Stress'], dtype='object')\n"
     ]
    },
    {
     "data": {
      "text/html": [
       "<div>\n",
       "<style scoped>\n",
       "    .dataframe tbody tr th:only-of-type {\n",
       "        vertical-align: middle;\n",
       "    }\n",
       "\n",
       "    .dataframe tbody tr th {\n",
       "        vertical-align: top;\n",
       "    }\n",
       "\n",
       "    .dataframe thead th {\n",
       "        text-align: right;\n",
       "    }\n",
       "</style>\n",
       "<table border=\"1\" class=\"dataframe\">\n",
       "  <thead>\n",
       "    <tr style=\"text-align: right;\">\n",
       "      <th></th>\n",
       "      <th>Pt</th>\n",
       "      <th>BP</th>\n",
       "      <th>Age</th>\n",
       "      <th>Weight</th>\n",
       "      <th>BSA</th>\n",
       "      <th>Dur</th>\n",
       "      <th>Pulse</th>\n",
       "      <th>Stress</th>\n",
       "    </tr>\n",
       "  </thead>\n",
       "  <tbody>\n",
       "    <tr>\n",
       "      <th>0</th>\n",
       "      <td>1</td>\n",
       "      <td>105</td>\n",
       "      <td>47</td>\n",
       "      <td>85.4</td>\n",
       "      <td>1.75</td>\n",
       "      <td>5.1</td>\n",
       "      <td>63</td>\n",
       "      <td>33</td>\n",
       "    </tr>\n",
       "    <tr>\n",
       "      <th>1</th>\n",
       "      <td>2</td>\n",
       "      <td>115</td>\n",
       "      <td>49</td>\n",
       "      <td>94.2</td>\n",
       "      <td>2.10</td>\n",
       "      <td>3.8</td>\n",
       "      <td>70</td>\n",
       "      <td>14</td>\n",
       "    </tr>\n",
       "    <tr>\n",
       "      <th>2</th>\n",
       "      <td>3</td>\n",
       "      <td>116</td>\n",
       "      <td>49</td>\n",
       "      <td>95.3</td>\n",
       "      <td>1.98</td>\n",
       "      <td>8.2</td>\n",
       "      <td>72</td>\n",
       "      <td>10</td>\n",
       "    </tr>\n",
       "    <tr>\n",
       "      <th>3</th>\n",
       "      <td>4</td>\n",
       "      <td>117</td>\n",
       "      <td>50</td>\n",
       "      <td>94.7</td>\n",
       "      <td>2.01</td>\n",
       "      <td>5.8</td>\n",
       "      <td>73</td>\n",
       "      <td>99</td>\n",
       "    </tr>\n",
       "    <tr>\n",
       "      <th>4</th>\n",
       "      <td>5</td>\n",
       "      <td>112</td>\n",
       "      <td>51</td>\n",
       "      <td>89.4</td>\n",
       "      <td>1.89</td>\n",
       "      <td>7.0</td>\n",
       "      <td>72</td>\n",
       "      <td>95</td>\n",
       "    </tr>\n",
       "  </tbody>\n",
       "</table>\n",
       "</div>"
      ],
      "text/plain": [
       "   Pt   BP  Age  Weight   BSA  Dur  Pulse  Stress\n",
       "0   1  105   47    85.4  1.75  5.1     63      33\n",
       "1   2  115   49    94.2  2.10  3.8     70      14\n",
       "2   3  116   49    95.3  1.98  8.2     72      10\n",
       "3   4  117   50    94.7  2.01  5.8     73      99\n",
       "4   5  112   51    89.4  1.89  7.0     72      95"
      ]
     },
     "execution_count": 28,
     "metadata": {},
     "output_type": "execute_result"
    }
   ],
   "source": [
    "df = pd.read_csv('health_data.txt', delimiter='\\t')\n",
    "print(len(df), df.columns)\n",
    "df.head()"
   ]
  },
  {
   "cell_type": "code",
   "execution_count": 30,
   "metadata": {},
   "outputs": [
    {
     "data": {
      "text/plain": [
       "array([[<matplotlib.axes._subplots.AxesSubplot object at 0x1a30acfa90>,\n",
       "        <matplotlib.axes._subplots.AxesSubplot object at 0x1a30b26390>,\n",
       "        <matplotlib.axes._subplots.AxesSubplot object at 0x1a30b50860>,\n",
       "        <matplotlib.axes._subplots.AxesSubplot object at 0x1a30b66b70>,\n",
       "        <matplotlib.axes._subplots.AxesSubplot object at 0x1a30b88e80>,\n",
       "        <matplotlib.axes._subplots.AxesSubplot object at 0x1a30b88eb8>,\n",
       "        <matplotlib.axes._subplots.AxesSubplot object at 0x1a30bd5ac8>,\n",
       "        <matplotlib.axes._subplots.AxesSubplot object at 0x1a30c0a198>],\n",
       "       [<matplotlib.axes._subplots.AxesSubplot object at 0x1a30c30828>,\n",
       "        <matplotlib.axes._subplots.AxesSubplot object at 0x1a30c5aeb8>,\n",
       "        <matplotlib.axes._subplots.AxesSubplot object at 0x1a30c8a588>,\n",
       "        <matplotlib.axes._subplots.AxesSubplot object at 0x1a30cb2c18>,\n",
       "        <matplotlib.axes._subplots.AxesSubplot object at 0x1a30ce42e8>,\n",
       "        <matplotlib.axes._subplots.AxesSubplot object at 0x1a30d0a978>,\n",
       "        <matplotlib.axes._subplots.AxesSubplot object at 0x1a30d3f048>,\n",
       "        <matplotlib.axes._subplots.AxesSubplot object at 0x1a30d656d8>],\n",
       "       [<matplotlib.axes._subplots.AxesSubplot object at 0x1a30d8fd68>,\n",
       "        <matplotlib.axes._subplots.AxesSubplot object at 0x1a30dc0438>,\n",
       "        <matplotlib.axes._subplots.AxesSubplot object at 0x1a30de7ac8>,\n",
       "        <matplotlib.axes._subplots.AxesSubplot object at 0x1a30e1a198>,\n",
       "        <matplotlib.axes._subplots.AxesSubplot object at 0x1a30e41828>,\n",
       "        <matplotlib.axes._subplots.AxesSubplot object at 0x1a30e6beb8>,\n",
       "        <matplotlib.axes._subplots.AxesSubplot object at 0x1a30e9c588>,\n",
       "        <matplotlib.axes._subplots.AxesSubplot object at 0x1a30ec3c18>],\n",
       "       [<matplotlib.axes._subplots.AxesSubplot object at 0x1a30ef52e8>,\n",
       "        <matplotlib.axes._subplots.AxesSubplot object at 0x1a30f1e978>,\n",
       "        <matplotlib.axes._subplots.AxesSubplot object at 0x1a30f4e048>,\n",
       "        <matplotlib.axes._subplots.AxesSubplot object at 0x1a30f766d8>,\n",
       "        <matplotlib.axes._subplots.AxesSubplot object at 0x1a30fa0d68>,\n",
       "        <matplotlib.axes._subplots.AxesSubplot object at 0x1a30fd1438>,\n",
       "        <matplotlib.axes._subplots.AxesSubplot object at 0x1a30ff8ac8>,\n",
       "        <matplotlib.axes._subplots.AxesSubplot object at 0x1a3102d198>],\n",
       "       [<matplotlib.axes._subplots.AxesSubplot object at 0x1a31054828>,\n",
       "        <matplotlib.axes._subplots.AxesSubplot object at 0x1a3107feb8>,\n",
       "        <matplotlib.axes._subplots.AxesSubplot object at 0x1a310af588>,\n",
       "        <matplotlib.axes._subplots.AxesSubplot object at 0x1a310d5c18>,\n",
       "        <matplotlib.axes._subplots.AxesSubplot object at 0x1a311072e8>,\n",
       "        <matplotlib.axes._subplots.AxesSubplot object at 0x1a3112d978>,\n",
       "        <matplotlib.axes._subplots.AxesSubplot object at 0x1a31161048>,\n",
       "        <matplotlib.axes._subplots.AxesSubplot object at 0x1a3118a6d8>],\n",
       "       [<matplotlib.axes._subplots.AxesSubplot object at 0x1a311b3d68>,\n",
       "        <matplotlib.axes._subplots.AxesSubplot object at 0x1a311dbe10>,\n",
       "        <matplotlib.axes._subplots.AxesSubplot object at 0x1a3120b4e0>,\n",
       "        <matplotlib.axes._subplots.AxesSubplot object at 0x1a31233b70>,\n",
       "        <matplotlib.axes._subplots.AxesSubplot object at 0x1a31267240>,\n",
       "        <matplotlib.axes._subplots.AxesSubplot object at 0x1a3128d8d0>,\n",
       "        <matplotlib.axes._subplots.AxesSubplot object at 0x1a312b8f60>,\n",
       "        <matplotlib.axes._subplots.AxesSubplot object at 0x1a312ea630>],\n",
       "       [<matplotlib.axes._subplots.AxesSubplot object at 0x1a31311cc0>,\n",
       "        <matplotlib.axes._subplots.AxesSubplot object at 0x1a31341390>,\n",
       "        <matplotlib.axes._subplots.AxesSubplot object at 0x1a3136ba20>,\n",
       "        <matplotlib.axes._subplots.AxesSubplot object at 0x1a3139c0f0>,\n",
       "        <matplotlib.axes._subplots.AxesSubplot object at 0x1a313c4780>,\n",
       "        <matplotlib.axes._subplots.AxesSubplot object at 0x1a313eee10>,\n",
       "        <matplotlib.axes._subplots.AxesSubplot object at 0x1a314204e0>,\n",
       "        <matplotlib.axes._subplots.AxesSubplot object at 0x1a31447b70>],\n",
       "       [<matplotlib.axes._subplots.AxesSubplot object at 0x1a3147b240>,\n",
       "        <matplotlib.axes._subplots.AxesSubplot object at 0x1a314a28d0>,\n",
       "        <matplotlib.axes._subplots.AxesSubplot object at 0x1a314cbf60>,\n",
       "        <matplotlib.axes._subplots.AxesSubplot object at 0x1a314fb630>,\n",
       "        <matplotlib.axes._subplots.AxesSubplot object at 0x1a31523cc0>,\n",
       "        <matplotlib.axes._subplots.AxesSubplot object at 0x1a31557390>,\n",
       "        <matplotlib.axes._subplots.AxesSubplot object at 0x1a3157ea20>,\n",
       "        <matplotlib.axes._subplots.AxesSubplot object at 0x1a315b00f0>]],\n",
       "      dtype=object)"
      ]
     },
     "execution_count": 30,
     "metadata": {},
     "output_type": "execute_result"
    },
    {
     "data": {
      "image/png": "[encoded data removed]",
      "text/plain": [
       "<Figure size 576x576 with 64 Axes>"
      ]
     },
     "metadata": {},
     "output_type": "display_data"
    }
   ],
   "source": [
    "pd.plotting.scatter_matrix(df, figsize=(8,8))"
   ]
  },
  {
   "cell_type": "markdown",
   "metadata": {},
   "source": [
    "## Correlation\n",
    "As we can see, there's quite a bit of correlated features here!  \n",
    "We can also further investigate a single relationship between two variables with the **plt.scatter(x,y)** method or calculte the pearson correlation coefficient with numpy's built in **np.corrcoeff()** method:"
   ]
  },
  {
   "cell_type": "code",
   "execution_count": 31,
   "metadata": {},
   "outputs": [
    {
     "name": "stdout",
     "output_type": "stream",
     "text": [
      "[[1.         0.95006765]\n",
      " [0.95006765 1.        ]]\n"
     ]
    },
    {
     "data": {
      "text/plain": [
       "<matplotlib.collections.PathCollection at 0x1a3171cb00>"
      ]
     },
     "execution_count": 31,
     "metadata": {},
     "output_type": "execute_result"
    },
    {
     "data": {
      "image/png": "[encoded data removed]",
      "text/plain": [
       "<Figure size 432x288 with 1 Axes>"
      ]
     },
     "metadata": {},
     "output_type": "display_data"
    }
   ],
   "source": [
    "x , y = df.Weight, df.BP\n",
    "print(np.corrcoef(x,y))\n",
    "plt.scatter(x,y)"
   ]
  },
  {
   "cell_type": "markdown",
   "metadata": {},
   "source": [
    "## Correlation versus causation\n",
    "As you may have heard before, correlation does not equal causation. One fun example of this is ice cream sales and shark attacks. We have a bizarre dataset recording ice cream sales and shark attacks on given days at various beach towns, and plotting the two we notice a distinct correlation between the two. This does not mean that more ice sales causes more shark attacks to happen. In this case, both variables (ice cream sales and shark attacks) are correlated with a third feature we have yet to examine: temperature. In summer, as the temperature rises, both ice cream sales and shark attacks increase while in winter, there are comparitively few of both. In sum, don't assume that just because two variables are correlated that there is any direct causal relation between the two."
   ]
  },
  {
   "cell_type": "markdown",
   "metadata": {},
   "source": [
    "## Multicollinearity\n",
    "Multicollinearity is when we have multiple predictive variables which are highly correlated. This leads to a number of issues when we then go to perform regression (which we will investigate in more depth!) \n",
    "\n",
    "In our current example, Blood Pressure and Weight were highly correlated which will greatly impact our regression analysis. Let's investigate this briefly."
   ]
  },
  {
   "cell_type": "markdown",
   "metadata": {},
   "source": [
    "# Regression"
   ]
  },
  {
   "cell_type": "code",
   "execution_count": 60,
   "metadata": {},
   "outputs": [
    {
     "name": "stdout",
     "output_type": "stream",
     "text": [
      "R^2 model score: 0.9962701462782667 \n",
      "\n",
      "Model feature coefficients:\n",
      "Pt Coefficient weight: -0.011\n",
      "Age Coefficient weight: 0.7018\n",
      "Weight Coefficient weight: 0.9778\n",
      "BSA Coefficient weight: 3.6165\n",
      "Dur Coefficient weight: 0.072\n",
      "Pulse Coefficient weight: -0.0902\n",
      "Stress Coefficient weight: 0.0064\n"
     ]
    }
   ],
   "source": [
    "from sklearn.linear_model import LinearRegression\n",
    "\n",
    "#Define X and y\n",
    "X = df[['Pt', 'Age', 'Weight', 'BSA', 'Dur', 'Pulse', 'Stress']]\n",
    "y = df['BP']\n",
    "#Initialize a regression object\n",
    "linreg = LinearRegression()\n",
    "\n",
    "#Fit the model\n",
    "linreg.fit(X, y)\n",
    "\n",
    "#Use the model to predict outputs\n",
    "df['Estimated BP'] = linreg.predict(X)\n",
    "\n",
    "#Calculate Errors (also called residuals)\n",
    "df['Residuals'] = df['Estimated BP'] - df['BP']\n",
    "\n",
    "#Print the model's R^2 to measure overall performance\n",
    "print('R^2 model score:', linreg.score(X,y), '\\n')\n",
    "\n",
    "#Print the coefficients for the model's formula\n",
    "print('Model feature coefficients:')\n",
    "weight_dict = dict(zip(X.columns, linreg.coef_))\n",
    "for feat, coeff in list(zip(X.columns, linreg.coef_)):\n",
    "    print(feat, 'Coefficient weight: {}'.format(round(coeff, 4)))"
   ]
  },
  {
   "cell_type": "markdown",
   "metadata": {},
   "source": [
    "# Problems with multicollinearity\n",
    "There are a few considerations to keep in mind when it comes to interpreting regression models based on underlying data with multicollinearity. *One is that the coefficients in the model themselves lose interpretability.* Under ideal conditions, we would like to interpret our coefficients literally. For example, the coefficient associated with weight is 0.9778. If this coefficient were stable, we could say something along the lines \"as a person's weight goes up by 1, there blood pressure goes up by 0.9778. Unfortunately, with multicollinearity, we cannot make such claims. That is because the coefficients associated with weights that are highly correlated may vary widely. For example, observe what happens to the coefficient associated with weight when we remove the highly correlated feature BSA:"
   ]
  },
  {
   "cell_type": "code",
   "execution_count": 61,
   "metadata": {},
   "outputs": [
    {
     "name": "stdout",
     "output_type": "stream",
     "text": [
      "R^2 model score: 0.9947573091859482 \n",
      "\n",
      "Model feature coefficients:\n",
      "Pt Coefficient weight: -0.0172\n",
      "Age Coefficient weight: 0.7278\n",
      "Weight Coefficient weight: 1.1027\n",
      "Dur Coefficient weight: 0.07\n",
      "Pulse Coefficient weight: -0.1428\n",
      "Stress Coefficient weight: 0.0086\n"
     ]
    }
   ],
   "source": [
    "from sklearn.linear_model import LinearRegression\n",
    "\n",
    "#Define X and y\n",
    "X = df[['Pt', 'Age', 'Weight', 'Dur', 'Pulse', 'Stress']] #'BSA' removed.\n",
    "y = df['BP']\n",
    "#Initialize a regression object\n",
    "linreg = LinearRegression()\n",
    "\n",
    "#Fit the model\n",
    "linreg.fit(X, y)\n",
    "\n",
    "#Use the model to predict outputs\n",
    "df['Estimated BP'] = linreg.predict(X)\n",
    "\n",
    "#Calculate Errors (also called residuals)\n",
    "df['Residuals'] = df['Estimated BP'] - df['BP']\n",
    "\n",
    "#Print the model's R^2 to measure overall performance\n",
    "print('R^2 model score:', linreg.score(X,y), '\\n')\n",
    "\n",
    "#Save results\n",
    "new_weight_dict = dict(zip(X.columns, linreg.coef_))\n",
    "\n",
    "#Print the coefficients for the model's formula\n",
    "print('Model feature coefficients:')\n",
    "for feat, coeff in list(zip(X.columns, linreg.coef_)):\n",
    "    print(feat, 'Coefficient weight: {}'.format(round(coeff, 4)))\n"
   ]
  },
  {
   "cell_type": "code",
   "execution_count": 65,
   "metadata": {},
   "outputs": [
    {
     "data": {
      "text/html": [
       "<div>\n",
       "<style scoped>\n",
       "    .dataframe tbody tr th:only-of-type {\n",
       "        vertical-align: middle;\n",
       "    }\n",
       "\n",
       "    .dataframe tbody tr th {\n",
       "        vertical-align: top;\n",
       "    }\n",
       "\n",
       "    .dataframe thead th {\n",
       "        text-align: right;\n",
       "    }\n",
       "</style>\n",
       "<table border=\"1\" class=\"dataframe\">\n",
       "  <thead>\n",
       "    <tr style=\"text-align: right;\">\n",
       "      <th></th>\n",
       "      <th>Feature</th>\n",
       "      <th>Original Weight</th>\n",
       "      <th>New Weight</th>\n",
       "      <th>Change</th>\n",
       "      <th>BSA Corr</th>\n",
       "    </tr>\n",
       "  </thead>\n",
       "  <tbody>\n",
       "    <tr>\n",
       "      <th>2</th>\n",
       "      <td>Weight</td>\n",
       "      <td>0.977808</td>\n",
       "      <td>1.102730</td>\n",
       "      <td>0.124922</td>\n",
       "      <td>0.875305</td>\n",
       "    </tr>\n",
       "    <tr>\n",
       "      <th>5</th>\n",
       "      <td>Pulse</td>\n",
       "      <td>-0.090189</td>\n",
       "      <td>-0.142836</td>\n",
       "      <td>0.052647</td>\n",
       "      <td>0.464819</td>\n",
       "    </tr>\n",
       "    <tr>\n",
       "      <th>1</th>\n",
       "      <td>Age</td>\n",
       "      <td>0.701830</td>\n",
       "      <td>0.727818</td>\n",
       "      <td>0.025989</td>\n",
       "      <td>0.378455</td>\n",
       "    </tr>\n",
       "    <tr>\n",
       "      <th>0</th>\n",
       "      <td>Pt</td>\n",
       "      <td>-0.011031</td>\n",
       "      <td>-0.017190</td>\n",
       "      <td>0.006159</td>\n",
       "      <td>-0.031288</td>\n",
       "    </tr>\n",
       "    <tr>\n",
       "      <th>6</th>\n",
       "      <td>Stress</td>\n",
       "      <td>0.006422</td>\n",
       "      <td>0.008632</td>\n",
       "      <td>0.002210</td>\n",
       "      <td>0.018446</td>\n",
       "    </tr>\n",
       "    <tr>\n",
       "      <th>4</th>\n",
       "      <td>Dur</td>\n",
       "      <td>0.071956</td>\n",
       "      <td>0.069955</td>\n",
       "      <td>0.002000</td>\n",
       "      <td>0.130540</td>\n",
       "    </tr>\n",
       "    <tr>\n",
       "      <th>3</th>\n",
       "      <td>BSA</td>\n",
       "      <td>3.616457</td>\n",
       "      <td>NaN</td>\n",
       "      <td>NaN</td>\n",
       "      <td>1.000000</td>\n",
       "    </tr>\n",
       "  </tbody>\n",
       "</table>\n",
       "</div>"
      ],
      "text/plain": [
       "  Feature  Original Weight  New Weight    Change  BSA Corr\n",
       "2  Weight         0.977808    1.102730  0.124922  0.875305\n",
       "5   Pulse        -0.090189   -0.142836  0.052647  0.464819\n",
       "1     Age         0.701830    0.727818  0.025989  0.378455\n",
       "0      Pt        -0.011031   -0.017190  0.006159 -0.031288\n",
       "6  Stress         0.006422    0.008632  0.002210  0.018446\n",
       "4     Dur         0.071956    0.069955  0.002000  0.130540\n",
       "3     BSA         3.616457         NaN       NaN  1.000000"
      ]
     },
     "execution_count": 65,
     "metadata": {},
     "output_type": "execute_result"
    }
   ],
   "source": [
    "weights = pd.DataFrame.from_dict(weight_dict, orient='index').reset_index()\n",
    "weights.columns = ['Feature', 'Original Weight']\n",
    "weights['New Weight'] = weights.Feature.map(new_weight_dict)\n",
    "weights['Change'] = np.abs(weights['New Weight'] - weights['Original Weight']) #Net change (absolute value)\n",
    "weights = weights.sort_values(by='Change', ascending=False)\n",
    "weights['BSA Corr'] = weights.Feature.map(lambda feat: np.corrcoef(df.BSA, df[feat])[0][1])\n",
    "weights"
   ]
  },
  {
   "cell_type": "markdown",
   "metadata": {},
   "source": [
    "What this goes to demonstrate is that some of these coefficients are unstable and depend on what other features are incorporated into the model. Adding additional features that are correlated with features already added will never reduce the overall performance of the model, but can be thought of as 'not adding much new information'. In this way, adding correlated features is unlikely to drastically increase model performance to any substantial degree. This also makes it difficult to judge the importance of a particular variable; the importance of the variable depends on what variables are already present (if other variables already exist which are highly correlated, then the variable will again add little predictive information)."
   ]
  },
  {
   "cell_type": "markdown",
   "metadata": {},
   "source": [
    "# Try it\n",
    "Iterate through the remaining columns and successively remove features from the model. Record what happens to the R^2 of the model and the various coefficients."
   ]
  },
  {
   "cell_type": "code",
   "execution_count": null,
   "metadata": {},
   "outputs": [],
   "source": [
    "#Your code here"
   ]
  },
  {
   "cell_type": "markdown",
   "metadata": {},
   "source": [
    "# Normalization\n",
    "Another important factor can be the scale of your various features. Simply having one feature that is on a much larger scale then others can bloat its signifigance to some training algorithms. For example, the weight feature has a much larger numerical scale then the BSA feature column. To standardize this, a common technique is to normalize all columns to have a minimum of zero and a maximum on one. An easy way to do this is:  \n",
    "$\\frac{value - minimum}{maximum - minimum}$"
   ]
  },
  {
   "cell_type": "code",
   "execution_count": 67,
   "metadata": {},
   "outputs": [
    {
     "name": "stdout",
     "output_type": "stream",
     "text": [
      "20 Index(['Pt', 'BP', 'Age', 'Weight', 'BSA', 'Dur', 'Pulse', 'Stress'], dtype='object')\n"
     ]
    },
    {
     "data": {
      "text/html": [
       "<div>\n",
       "<style scoped>\n",
       "    .dataframe tbody tr th:only-of-type {\n",
       "        vertical-align: middle;\n",
       "    }\n",
       "\n",
       "    .dataframe tbody tr th {\n",
       "        vertical-align: top;\n",
       "    }\n",
       "\n",
       "    .dataframe thead th {\n",
       "        text-align: right;\n",
       "    }\n",
       "</style>\n",
       "<table border=\"1\" class=\"dataframe\">\n",
       "  <thead>\n",
       "    <tr style=\"text-align: right;\">\n",
       "      <th></th>\n",
       "      <th>Pt</th>\n",
       "      <th>BP</th>\n",
       "      <th>Age</th>\n",
       "      <th>Weight</th>\n",
       "      <th>BSA</th>\n",
       "      <th>Dur</th>\n",
       "      <th>Pulse</th>\n",
       "      <th>Stress</th>\n",
       "    </tr>\n",
       "  </thead>\n",
       "  <tbody>\n",
       "    <tr>\n",
       "      <th>0</th>\n",
       "      <td>1</td>\n",
       "      <td>105</td>\n",
       "      <td>47</td>\n",
       "      <td>85.4</td>\n",
       "      <td>1.75</td>\n",
       "      <td>5.1</td>\n",
       "      <td>63</td>\n",
       "      <td>33</td>\n",
       "    </tr>\n",
       "    <tr>\n",
       "      <th>1</th>\n",
       "      <td>2</td>\n",
       "      <td>115</td>\n",
       "      <td>49</td>\n",
       "      <td>94.2</td>\n",
       "      <td>2.10</td>\n",
       "      <td>3.8</td>\n",
       "      <td>70</td>\n",
       "      <td>14</td>\n",
       "    </tr>\n",
       "    <tr>\n",
       "      <th>2</th>\n",
       "      <td>3</td>\n",
       "      <td>116</td>\n",
       "      <td>49</td>\n",
       "      <td>95.3</td>\n",
       "      <td>1.98</td>\n",
       "      <td>8.2</td>\n",
       "      <td>72</td>\n",
       "      <td>10</td>\n",
       "    </tr>\n",
       "    <tr>\n",
       "      <th>3</th>\n",
       "      <td>4</td>\n",
       "      <td>117</td>\n",
       "      <td>50</td>\n",
       "      <td>94.7</td>\n",
       "      <td>2.01</td>\n",
       "      <td>5.8</td>\n",
       "      <td>73</td>\n",
       "      <td>99</td>\n",
       "    </tr>\n",
       "    <tr>\n",
       "      <th>4</th>\n",
       "      <td>5</td>\n",
       "      <td>112</td>\n",
       "      <td>51</td>\n",
       "      <td>89.4</td>\n",
       "      <td>1.89</td>\n",
       "      <td>7.0</td>\n",
       "      <td>72</td>\n",
       "      <td>95</td>\n",
       "    </tr>\n",
       "  </tbody>\n",
       "</table>\n",
       "</div>"
      ],
      "text/plain": [
       "   Pt   BP  Age  Weight   BSA  Dur  Pulse  Stress\n",
       "0   1  105   47    85.4  1.75  5.1     63      33\n",
       "1   2  115   49    94.2  2.10  3.8     70      14\n",
       "2   3  116   49    95.3  1.98  8.2     72      10\n",
       "3   4  117   50    94.7  2.01  5.8     73      99\n",
       "4   5  112   51    89.4  1.89  7.0     72      95"
      ]
     },
     "execution_count": 67,
     "metadata": {},
     "output_type": "execute_result"
    }
   ],
   "source": [
    "df = pd.read_csv('health_data.txt', delimiter='\\t')\n",
    "print(len(df), df.columns)\n",
    "df.head()"
   ]
  },
  {
   "cell_type": "markdown",
   "metadata": {},
   "source": [
    "# Try it out!\n",
    "Iterate over the columns and normalize each to have a minimum of zero and maximum of one by applying a lambda function that subtracts the minimum and divides by the range.  \n",
    "$\\frac{value - minimum}{maximum - minimum}$"
   ]
  },
  {
   "cell_type": "code",
   "execution_count": null,
   "metadata": {},
   "outputs": [],
   "source": [
    "#Your code here"
   ]
  }
 ],
 "metadata": {
  "kernelspec": {
   "display_name": "Python 3",
   "language": "python",
   "name": "python3"
  },
  "language_info": {
   "codemirror_mode": {
    "name": "ipython",
    "version": 3
   },
   "file_extension": ".py",
   "mimetype": "text/x-python",
   "name": "python",
   "nbconvert_exporter": "python",
   "pygments_lexer": "ipython3",
   "version": "3.6.5"
  }
 },
 "nbformat": 4,
 "nbformat_minor": 2
}
